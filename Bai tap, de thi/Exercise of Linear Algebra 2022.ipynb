{
 "cells": [
  {
   "cell_type": "markdown",
   "id": "8d248e75",
   "metadata": {},
   "source": [
    "# BÀI TẬP TỔNG HỢP ĐẠI SỐ TUYẾN TÍNH"
   ]
  },
  {
   "cell_type": "markdown",
   "id": "81e55db6",
   "metadata": {},
   "source": [
    "### Bài 1.\n",
    "Cho hai ma trận sau đây"
   ]
  },
  {
   "cell_type": "markdown",
   "id": "b0f34c6d",
   "metadata": {},
   "source": [
    "$$A=\\left( \\begin{matrix}\n",
    "   1 & 0 & 2 & a  \\\\\n",
    "   1 & 2 & 4 & b  \\\\\n",
    "   -1 & 2 & 0 & c  \\\\\n",
    "   3 & -1 & 3 & d  \\\\\n",
    "\\end{matrix} \\right), B=\\left( \\begin{matrix}\n",
    "   4 & 5 & 1 & -2  \\\\\n",
    "   0 & 1 & 2 & 1  \\\\\n",
    "   0 & -2 & -3 & 1  \\\\\n",
    "   a & b & c & d  \\\\\n",
    "\\end{matrix} \\right)$$\n",
    "trong đó $a,b,c,d$ là $4$ số cuối trong $MSSV$ (viết theo thứ tự từ trái sang phải). Khi làm bài, $SV$ chủ động thay các mã số đó vào đề bài trên."
   ]
  },
  {
   "cell_type": "markdown",
   "id": "f64f853f",
   "metadata": {},
   "source": [
    "Bằng cách dùng các thư viện có hỗ trợ sẵn của Python, hãy thực hiện các yêu cầu sau:\n",
    "* a) Tính $B+A$, $B{{A}^{T}}$, $2A-3B$.\n",
    "* b) Tính $\\det (A)$ , $\\det ({{B}^{T}}+2I)$, $rank(AB).$ \n",
    "* c) Tính norm của vector hàng $1$ của $A,$ tính norm của vector cột $3$ của $B,$ tính tổng các phần tử trên đường chéo của $A.$\n",
    "* d) Kiểm tra công thức ${{(AB)}^{T}}={{B}^{T}}{{A}^{T}}$ dựa trên hai ma trận đã cho.\n",
    "* e) Kiểm tra công thức $det(AB) = det(A)det(B)$ dựa trên hai ma trận đã cho.\n",
    "* f) Sinh ngẫu nhiên một ma trận $C$ có kích thước $4\\times 4$ với các phần tử là số nguyên trong miền từ $-9\\to 9$, từ đó in ra các phần tử nằm phía dưới đường chéo của $A+BC.$ "
   ]
  },
  {
   "cell_type": "markdown",
   "id": "1f02fdeb",
   "metadata": {},
   "source": [
    "### Bài 2.\n",
    "Cho hai ma trận vuông $3 \\times 3$ sau đây:\n",
    "$$A=\\left( \\begin{matrix}\n",
    "   2 & 2 & 1  \\\\\n",
    "   2 & 5 & 3  \\\\\n",
    "   2 & 3 & 5  \\\\\n",
    "\\end{matrix} \\right) \\text{ và } B=\\left( \\begin{matrix}\n",
    "   3 & 1 & 2  \\\\\n",
    "   -1 & 2 & 4  \\\\\n",
    "   2 & 6 & 3  \\\\\n",
    "\\end{matrix} \\right).$$\n",
    "- **a)** Hỏi trong các đẳng thức sau có bao nhiêu đẳng thức đúng, hãy kiểm chứng bằng code: $$AB=BA, \\, (A+B)^T = A^T+B^T, \\,(AB)^{-1} = B^{-1}A^{-1}.$$\n",
    "- **b)** Tìm ma trận $C$ thỏa mãn $AC - C = B$. *Gợi ý:* $C = CI = IC$ với $I$ là ma trận đơn vị.\n",
    "- **c)** Tìm vector $\\textbf{x}$ thỏa mãn $A\\textbf{x} = B \\textbf{b}$ với $\\textbf{x}^T = (x_1,x_2,x_3)$ và $\\textbf{b}^T = (1,-2,-3)?$ Hỏi có tồn tại vector $\\textbf{x}$ để cho $A\\textbf{x} = \\textbf{b}B$ hay không? Vì sao?"
   ]
  },
  {
   "cell_type": "markdown",
   "id": "fdea87c9",
   "metadata": {},
   "source": [
    "### Bài 3.\n",
    "Kết quả học tập của một nhóm sinh viên ở môn Đại số tuyến tính và Ứng dụng được cho trong bảng bên dưới. Sinh viên chỉ qua môn nếu điểm tổng kết không dưới $5.0$."
   ]
  },
  {
   "cell_type": "markdown",
   "id": "e326e6e0",
   "metadata": {},
   "source": [
    "|Sinh viên | BT cá nhân  | Báo cáo   | Giữa kỳ   | Cuối kỳ   |\n",
    "|----------|-------------|-----------|-----------|-----------|\n",
    "|  A       |     8       |    7      |    6      |    4      |\n",
    "|  B       |     0       |    7      |    5      |    6      |\n",
    "|  C       |     3       |    9      |    4      |    5      |\n",
    "|  D       |     7       |    8      |    3      |    5      |\n",
    "|  E       |     10      |    10     |    10     |    9      |\n",
    "|  F       |     6       |    0      |    6      |    5      |"
   ]
  },
  {
   "cell_type": "markdown",
   "id": "cc8e69b9",
   "metadata": {},
   "source": [
    "Giảng viên đang cân nhắc cho các điểm theo trọng số nào để có lợi cho các sinh viên nhất (ít người rớt nhất), có $3$ phương án:\n",
    "* $0.2, 0.2, 0.2, 0.4$.\n",
    "* $0.1, 0.1, 0.3, 0.5.$\n",
    "* $0.1, 0.2, 0.3, 0.4.$\n",
    "\n",
    "Hãy giúp giảng viên lựa chọn phương án thích hợp."
   ]
  },
  {
   "cell_type": "markdown",
   "id": "fca2f378",
   "metadata": {},
   "source": [
    "### Bài 4.\n",
    "\n",
    "Trong lĩnh vực xử lý ngôn ngữ tự nhiên $NLP$, với danh sách từ vựng $\\mathcal{L}$ độ dài $\\ell$, mỗi câu văn có thể được mô tả bởi 1 vector $v\\in\\mathbb{R}^{\\ell}$ mà thành phần thứ $i$ cho biết số lần mà từ $d_i \\in \\mathcal{L}$ xuất hiện trong câu, còn được gọi là tọa độ của câu văn trong $\\mathcal{L}$. Xét các câu văn sau đây:\n",
    "> * $D_1$: *tôi là An*.\n",
    "> * $D_2$: *tôi thích đi xem phim*.\n",
    "> * $D_3$: *An rất thích xem tôi du lịch*.\n",
    "> * $D_4$: *tôi rất rất thích đi du lịch, An là tên tôi*.\n",
    "\n",
    "Giả sử rằng $\\mathcal{L} =$ (*An, du, đi, là, lịch, phim, rất, tên, thích, tôi, xem*) với $|\\mathcal{L}| = 11$ thì chẳng hạn câu văn $D_0$ = *tôi rất thích An An* sẽ có tọa độ là $$d_0 = (2,0,0,0,0,0,1,0,1,1,0).$$\n",
    "- **a)** Viết toạ độ của các câu văn $D_1,D_2,D_3,D_4$ ở dạng vector trong không gian $11$ chiều ứng với từ vựng $\\mathcal{L}$.\n",
    "- **b)** Tính khoảng cách Euclid đôi một giữa các câu văn trên sử dụng thư viện *numpy.linalg*.\n",
    "- **c)** Ở trên ta dùng thư viện, vậy hãy cho biết công thức Toán học cụ thể để tính khoảng cách Euclid giữa hai vector bên dưới là gì:\n",
    "$$d = (x_1,x_2,...,x_{11}) \\text{ và } d' = (y_1,y_2,...,y_{11})?$$"
   ]
  },
  {
   "cell_type": "code",
   "execution_count": null,
   "id": "82361e98",
   "metadata": {},
   "outputs": [],
   "source": [
    "#hãy giải câu a), b) bằng cách hoàn thành đoạn code sau đây (điền vào dấu ...)\n",
    "import numpy as np\n",
    "d1 = np.array([...])\n",
    "d2 = np.array([...])\n",
    "d3 = np.array([...])\n",
    "d4 = np.array([...])\n",
    "D = np.vstack([d1,d2,d3,d4])\n",
    "l = len(D)\n",
    "for i in range(l):\n",
    "    for j in range(i+1,l):\n",
    "        print('Khoảng cách giữa d{} & d{} là'.format(i+1,j+1), round(..., 2))"
   ]
  },
  {
   "cell_type": "markdown",
   "id": "e526d687",
   "metadata": {},
   "source": [
    "### Bài 5.\n",
    "Cho bài toán sau, hãy bằng cách lập hệ phương trình thích hợp và giải bằng Python theo **ít nhất $2$ cách khác nhau**: <br>\n",
    "\n",
    "Trong đợt dịch cúm Covid-19, sinh viên của một trường Đại học có nhận được trợ cấp từ nhà trường, từ địa phương và từ hội cựu sinh viên. Khảo sát trong một lớp học có ba nhóm: đang ở quê, đang ở trọ tại TPHCM và đang ở KTX trường. Biết rằng mức tiền hỗ trợ tiền:\n",
    "* Của trường cho các nhóm trên lần lượt là: $200k, 600k, 400k$; \n",
    "* Của địa phương là: $500k, 500k, 500k$; \n",
    "* Của hội cựu sinh viên là: $0k, 700k, 300k.$\n",
    "\n",
    "Biết rằng tổng tiền mà sinh viên được từ nhà trường là $21$ triệu, từ địa phương là $50$ triệu và từ hội cựu sinh viên là $32$ triệu. Tính tổng sinh viên của lớp."
   ]
  },
  {
   "cell_type": "markdown",
   "id": "ec621c6a",
   "metadata": {},
   "source": [
    "### Bài 6.\n",
    "Một thí nghiệm xét mối liên hệ giữa độ giảm trọng lượng của hợp chất ($y$, tính bằng gam) và khoảng thời gian mà hợp chất tiếp xúc với không khí ($x$, tính bằng năm), trong đó số âm có thể hiểu là giai đoạn xử lý nguyên liệu, trước khi điều chế ra hợp chất. Ta có bảng dữ liệu như sau:"
   ]
  },
  {
   "cell_type": "markdown",
   "id": "b2fe4308",
   "metadata": {},
   "source": [
    "| $x$    | $-2$ | $0$   | $1$  | $2$  | $4$   |\n",
    "|--------|------|-------|------|------|-------|\n",
    "| $y$    | $-1$ | $1.5$ | $3.1$| $6.3$| $11.1$| "
   ]
  },
  {
   "cell_type": "markdown",
   "id": "5180a309",
   "metadata": {},
   "source": [
    "- **a)** Giả sử $x,y$ thỏa mãn mô hình $y=a+bx+c \\ln(x^2+1).$ Hãy sử dụng phương pháp bình phương cực tiểu, ước lượng các tham số $a,b,c.$ <br>\n",
    "- **b)** Vẽ đồ thị cho dữ liệu. Sử dụng kết quả trên để dự đoán $y$ khi $x = 6.5$. <br>\n",
    "- **c)** Hỏi có nên dùng mô hình $y=a+bx+c \\ln(x)$ hoặc $y = a+bx+\\frac{c}{x}$ để xấp xỉ dữ liệu trên không? Vì sao?"
   ]
  },
  {
   "cell_type": "code",
   "execution_count": null,
   "id": "72aa58fe",
   "metadata": {},
   "outputs": [],
   "source": [
    "#Hàm logarit nepe trong Python là np.log(x), khởi tạo ma trận hệ số\n",
    "A = np.array([[...],[...],[...],[...],[...]])\n",
    "b = np.array([...])\n",
    "#dùng công thức tính ma trận giả nghịch đảo:\n",
    "...\n",
    "...\n",
    "...\n",
    "#code để vẽ đồ thị\n",
    "from matplotlib import pyplot as plt\n",
    "plt.plot(..., marker=\".\", color=\"red\")\n",
    "... #plot các điểm khác tương tự\n",
    "x = ...\n",
    "y = ...\n",
    "plt.plot(x,y)\n",
    "plt.show()"
   ]
  },
  {
   "cell_type": "markdown",
   "id": "0025988b",
   "metadata": {},
   "source": [
    "### Bài 7.\n",
    "Theo khảo sát trong sinh viên của ĐH Khoa học tự nhiên TPHCM đối với ba quán cafe $A,B,C$ trước cổng trường thì người ta có thông tin về sự thay đổi lượng khách đến quán sau mỗi tuần như bên dưới, cho biết thêm rằng ban đầu, hai quán $A,B$ chưa mở nên $100\\%$ khách đều đến $C$:\n",
    " * + Trong những SV đến quán cafe $A$, sẽ có $20\\%$ người tiếp tục đến $A$, có $60\\%$ người sang $B$ và $20\\%$ người sang $C$.\n",
    " * + Trong những SV đến quán cafe $B$, sẽ có $10\\%$ người sang $A$, có $40\\%$ người tiếp tục đến $B$ và $50\\%$ người sang $C$.\n",
    " * + Trong những SV đến quán cafe $C$, sẽ có $70\\%$ người sang $A$, có $20\\%$ người sang $B$ và $10\\%$ người tiếp tục đến $C$.\n",
    "\n",
    "- **a)** Hãy lập ma trận chuyển trạng thái Markov $X$ kích thước $3 \\times 3$ mô tả cho sự thay đổi của lượng người đến các quán. Từ đó tính tỷ lệ phần trăm những người đến quán $A,B,C$ sau $1$ tháng ($4$ tuần).\n",
    "- **b)** Bằng cách khảo sát các lũy thừa ma trận với số mũ lớn, hãy cho biết thị phần ổn định của các quán sau khi hoạt động trong thời gian đủ lâu. Hãy thực hiện việc này bằng $2$ cách sau: dùng vòng lặp for, dùng thư viện của numpy.linalg."
   ]
  },
  {
   "cell_type": "code",
   "execution_count": null,
   "id": "4dc137ee",
   "metadata": {},
   "outputs": [],
   "source": [
    "#Gợi ý code mẫu như sau\n",
    "X = np.array([...]) # ma trận chuyển trạng thái\n",
    "v = np.array([...]) # vector mô tả tỷ lệ khách ban đầu của A, B, C\n",
    "#a) sau khi hoạt động một tháng\n",
    "...\n",
    "#b) Chọn lũy thừa thích hợp đến khi ma trận hội tụ thì nêu đáp số\n",
    "#Cách 1: dùng thư viện\n",
    "X1 = ...\n",
    "#Cách 2: dùng vòng lặp:\n",
    "X2 = X\n",
    "for _ in range(...):\n",
    "    ...\n",
    "..."
   ]
  },
  {
   "cell_type": "markdown",
   "id": "a422dba2",
   "metadata": {},
   "source": [
    "### Bài 8. \n",
    "- **a)** Hãy tải về một ảnh bất kỳ, đặt tên là *picture.jpg*, hiển thị lên notebook và cho biết tỷ lệ giữa chiều dài, rộng của nó.\n",
    "- **b)** Hãy lưu một ảnh mới tên *new_pic.jpg* từ ảnh trên với kích thước mới có tỷ lệ chiều dài, rộng bằng tỷ lệ của giấy in, tức là $1 : \\sqrt{2}$. Hãy cho biết cơ sở nào của đại số tuyến tính được sử dụng trong các thao tác xử lý ảnh này?"
   ]
  },
  {
   "cell_type": "code",
   "execution_count": null,
   "id": "f1cb8303",
   "metadata": {},
   "outputs": [],
   "source": [
    "#Gợi ý code mẫu như sau\n",
    "from PIL import Image\n",
    "img = Image.open(r'C:\\Users\\Admin\\Desktop\\picture.jpg') #đổi tên đường dẫn thích hợp\n",
    "#a) Hiển thị ảnh và kích thước dài - rộng\n",
    "...\n",
    "...\n",
    "#b) Điều chỉnh kích thước và hiển thị lại ảnh mới\n",
    "new_width = ...\n",
    "new_height = ...\n",
    "new_img = ...\n",
    "new_img.save(r'C:\\Users\\Admin\\Desktop\\new_pic.jpg') #đổi tên đường dẫn thích hợp\n",
    "..."
   ]
  },
  {
   "cell_type": "markdown",
   "id": "6017be8d",
   "metadata": {},
   "source": [
    "### Bài 9.\n",
    "Cho ma trận: $M=\\left( \\begin{matrix}\n",
    "   2 & a & -2  \\\\\n",
    "   0 & 3 & 0  \\\\\n",
    "   0 & 0 & 3  \\\\\n",
    "\\end{matrix} \\right)$ trong đó $a$ là tham số thực.\n",
    "* a) Cho $a=1,$ hãy chéo hóa ma trận này để thu được ma trận $D$ bằng cách dùng thư viện của Python và kiểm chứng lại bằng việc tính toán từng bước để tìm đa thức đặc trưng và các giá trị riêng của $M$. Từ đó hãy nêu cách tính ${{M}^{99}}$.\n",
    "* b) Ma trận chéo hóa $D$ của $M$ luôn không đổi với mọi giá trị $a$ tùy ý, hãy kiểm chứng với vài giá trị cụ thể của $a$ và giải thích lý do.\n"
   ]
  }
 ],
 "metadata": {
  "kernelspec": {
   "display_name": "Python 3",
   "language": "python",
   "name": "python3"
  },
  "language_info": {
   "codemirror_mode": {
    "name": "ipython",
    "version": 3
   },
   "file_extension": ".py",
   "mimetype": "text/x-python",
   "name": "python",
   "nbconvert_exporter": "python",
   "pygments_lexer": "ipython3",
   "version": "3.8.8"
  }
 },
 "nbformat": 4,
 "nbformat_minor": 5
}
